{
 "cells": [
  {
   "cell_type": "markdown",
   "metadata": {},
   "source": [
    "## References\n",
    "Our Paper: https://www.cs.cornell.edu/~kb/publications/SIG15ProductNet.pdf\n",
    "\n",
    "Keras Siamese: https://github.com/harveyslash/Facial-Similarity-with-Siamese-Networks-in-Pytorch/blob/master/Siamese-networks-medium.ipynb\n",
    "\n",
    "## To Do\n",
    "\n",
    "1. Embeddings have to be L2 normalized\n",
    "2. Recheck the Custom loss function\n",
    "\n",
    "3. Data Loader for DeepFashion:\n",
    "Reference: https://jovian.ml/gautham20/deepfashion-similar-images-annoy"
   ]
  },
  {
   "cell_type": "code",
   "execution_count": 1,
   "metadata": {},
   "outputs": [],
   "source": [
    "import torch\n",
    "import torch.nn as nn\n",
    "import torch.nn.functional as F\n",
    "import torchvision.models as models\n",
    "from torch import optim\n",
    "import torch.nn.functional as F\n",
    "from torchsummary import summary"
   ]
  },
  {
   "cell_type": "code",
   "execution_count": 2,
   "metadata": {
    "scrolled": true
   },
   "outputs": [],
   "source": [
    "# model = models.resnet18(pretrained=True)\n",
    "# newmodel = torch.nn.Sequential(*(list(model.children())[:-1]))\n",
    "# summary(newmodel, (3, 224, 224))"
   ]
  },
  {
   "cell_type": "code",
   "execution_count": 3,
   "metadata": {},
   "outputs": [],
   "source": [
    "class SiameseNetwork(nn.Module):\n",
    "    def __init__(self, base_network_name='resnet34', num_classes=46):\n",
    "        super(SiameseNetwork, self).__init__()\n",
    "        \n",
    "        if base_network_name == 'resnet18':\n",
    "            self.resnet = models.resnet18(pretrained=True)\n",
    "            self.embd_dim = 512\n",
    "        elif base_network_name == 'resnet34':\n",
    "            self.resnet = models.resnet34(pretrained=True)\n",
    "            self.embd_dim = 512\n",
    "        elif base_network_name == 'resnet50':\n",
    "            self.resnet = models.resnet50(pretrained=True)\n",
    "            self.embd_dim = 2048\n",
    "        else:\n",
    "            raise NotImplementedError(\"Supports only resnet 18, 34 and 50\")\n",
    "        \n",
    "        self.base_network = torch.nn.Sequential(*(list(self.resnet.children())[:-1]))\n",
    "            \n",
    "        self.fc1 = nn.Sequential(\n",
    "            nn.Linear(self.embd_dim, 256),\n",
    "            nn.ReLU(inplace=True),\n",
    "\n",
    "            nn.Linear(256, num_classes))\n",
    "\n",
    "    def forward_once(self, x):\n",
    "        output = self.base_network(x)\n",
    "        embd_output = output.view(output.size()[0], -1)\n",
    "        class_output = self.fc1(embd_output)\n",
    "        return embd_output, class_output\n",
    "\n",
    "    def forward(self, input1, input2):\n",
    "        embd_output1, class_output1 = self.forward_once(input1)\n",
    "        embd_output2, class_output2 = self.forward_once(input2)\n",
    "        return embd_output1, class_output1, embd_output2, class_output2"
   ]
  },
  {
   "cell_type": "code",
   "execution_count": 7,
   "metadata": {},
   "outputs": [],
   "source": [
    "class Custom_ContrastiveLoss(torch.nn.Module):\n",
    "    \"\"\"\n",
    "    Contrastive loss function.\n",
    "    Based on: http://yann.lecun.com/exdb/publis/pdf/hadsell-chopra-lecun-06.pdf\n",
    "    \"\"\"\n",
    "\n",
    "    def __init__(self, margin=2.0):\n",
    "        super(ContrastiveLoss, self).__init__()\n",
    "        self.margin = margin\n",
    "\n",
    "    def forward(self, embd_output1, class_output1, embd_output2, class_output2, label, class1, class2):\n",
    "        euclidean_distance = F.pairwise_distance(embd_output1, embd_output1, keepdim = True)\n",
    "        loss_contrastive = torch.mean((1-label) * torch.pow(euclidean_distance, 2) +\n",
    "                                      (label) * torch.pow(torch.clamp(self.margin - euclidean_distance, min=0.0), 2))\n",
    "\n",
    "        loss_1 = nn.CrossEntropyLoss(class_output1, class1)\n",
    "        loss_2 = nn.CrossEntropyLoss(class_output2, class2)\n",
    "        \n",
    "        return loss_contrastive+loss_1+loss_2"
   ]
  },
  {
   "cell_type": "code",
   "execution_count": null,
   "metadata": {},
   "outputs": [],
   "source": []
  },
  {
   "cell_type": "code",
   "execution_count": null,
   "metadata": {},
   "outputs": [],
   "source": []
  }
 ],
 "metadata": {
  "kernelspec": {
   "display_name": "Python 3",
   "language": "python",
   "name": "python3"
  },
  "language_info": {
   "codemirror_mode": {
    "name": "ipython",
    "version": 3
   },
   "file_extension": ".py",
   "mimetype": "text/x-python",
   "name": "python",
   "nbconvert_exporter": "python",
   "pygments_lexer": "ipython3",
   "version": "3.7.3"
  }
 },
 "nbformat": 4,
 "nbformat_minor": 2
}
