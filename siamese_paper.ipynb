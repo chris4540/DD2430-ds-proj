{
 "cells": [
  {
   "cell_type": "markdown",
   "metadata": {},
   "source": [
    "## References\n",
    "\n",
    "Our Paper: https://www.cs.cornell.edu/~kb/publications/SIG15ProductNet.pdf\n",
    "\n",
    "Keras Siamese: https://github.com/keras-team/keras/blob/master/examples/mnist_siamese.py\n",
    "\n",
    "## To Do\n",
    "\n",
    "Finish Data Pipeline\n",
    "\n",
    "1. Need to use \"flow_from_dataframe\""
   ]
  },
  {
   "cell_type": "code",
   "execution_count": 1,
   "metadata": {},
   "outputs": [],
   "source": [
    "import tensorflow as tf\n",
    "from tensorflow.keras.models import Model, Sequential\n",
    "from tensorflow.keras.layers import Input, Flatten, Dense, Dropout, Lambda\n",
    "from tensorflow.keras.applications import resnet50\n",
    "from tensorflow.keras import backend as K\n",
    "from tensorflow.keras.optimizers import RMSprop"
   ]
  },
  {
   "cell_type": "code",
   "execution_count": 2,
   "metadata": {},
   "outputs": [
    {
     "data": {
      "text/plain": [
       "'2.0.0'"
      ]
     },
     "execution_count": 2,
     "metadata": {},
     "output_type": "execute_result"
    }
   ],
   "source": [
    "tf.__version__"
   ]
  },
  {
   "cell_type": "code",
   "execution_count": 3,
   "metadata": {},
   "outputs": [],
   "source": [
    "def euclidean_distance(vects):\n",
    "    x, y = vects\n",
    "    sum_square = K.sum(K.square(x - y), axis=1, keepdims=True)\n",
    "    return K.sqrt(K.maximum(sum_square, K.epsilon()))\n",
    "\n",
    "\n",
    "def eucl_dist_output_shape(shapes):\n",
    "    shape1, shape2 = shapes\n",
    "    return (shape1[0], 1)\n",
    "\n",
    "def contrastive_loss(y_true, y_pred):\n",
    "    '''Contrastive loss from Hadsell-et-al.'06\n",
    "    http://yann.lecun.com/exdb/publis/pdf/hadsell-chopra-lecun-06.pdf\n",
    "    '''\n",
    "    \n",
    "    margin = 1\n",
    "    square_pred = K.square(y_pred)\n",
    "    margin_square = K.square(K.maximum(margin - y_pred, 0))\n",
    "    return K.mean(y_true * square_pred + (1 - y_true) * margin_square)\n",
    "\n",
    "def siam_accuracy(y_true, y_pred):\n",
    "    '''Compute classification accuracy with a fixed threshold on distances.\n",
    "    '''    \n",
    "    return K.mean(K.equal(y_true, K.cast(y_pred < 0.5, y_true.dtype)))"
   ]
  },
  {
   "cell_type": "code",
   "execution_count": 4,
   "metadata": {},
   "outputs": [],
   "source": [
    "def create_base_model(input_shape, num_classes):\n",
    "    image_input = Input(shape=input_shape)\n",
    "    model = resnet50.ResNet50(weights=\"imagenet\", include_top=True,\n",
    "                          input_tensor=image_input)\n",
    "    # 2048-D vector output\n",
    "    embd_output = model.get_layer('avg_pool').output\n",
    "    # can add more dense layers inbetween if required\n",
    "    classification_output = Dense(num_classes, activation='softmax', name='output_layer')(embd_output)\n",
    "    custom_resnet_model = Model(inputs=image_input, outputs= [embd_output, classification_output])\n",
    "    return custom_resnet_model\n",
    "\n",
    "def create_siamese_model(input_shape, num_classes):\n",
    "    input_a = Input(shape=input_shape)\n",
    "    input_b = Input(shape=input_shape)\n",
    "    model = create_base_model(input_shape, num_classes)\n",
    "    embd_a, class_a = model(input_a)\n",
    "    embd_b, class_b = model(input_b)\n",
    "    # l2 norm for embeddings\n",
    "    norm_embd_a = K.l2_normalize(embd_a, axis=1)\n",
    "    norm_embd_b = K.l2_normalize(embd_b, axis=1)\n",
    "    # distance between embeddings\n",
    "    distance = Lambda(euclidean_distance, output_shape=eucl_dist_output_shape)([norm_embd_a, norm_embd_b])\n",
    "    custom_siamese_model = Model([input_a, input_b], [distance, class_a, class_b])\n",
    "    return custom_siamese_model"
   ]
  },
  {
   "cell_type": "code",
   "execution_count": 5,
   "metadata": {},
   "outputs": [],
   "source": [
    "input_shape = (224, 224, 3)\n",
    "num_classes = 46"
   ]
  },
  {
   "cell_type": "code",
   "execution_count": 6,
   "metadata": {},
   "outputs": [],
   "source": [
    "s_model = create_siamese_model(input_shape, num_classes)"
   ]
  },
  {
   "cell_type": "code",
   "execution_count": 7,
   "metadata": {},
   "outputs": [
    {
     "data": {
      "text/plain": [
       "['lambda', 'model', 'model_1']"
      ]
     },
     "execution_count": 7,
     "metadata": {},
     "output_type": "execute_result"
    }
   ],
   "source": [
    "s_model.output_names"
   ]
  },
  {
   "cell_type": "code",
   "execution_count": 8,
   "metadata": {},
   "outputs": [],
   "source": [
    "output_names = s_model.output_names\n",
    "losses = {\n",
    "    output_names[0]: contrastive_loss,\n",
    "    output_names[1]: \"categorical_crossentropy\",\n",
    "    output_names[2]: \"categorical_crossentropy\",\n",
    "}\n",
    "lossWeights = {output_names[0]:1.0,output_names[1]: 1.0, output_names[2]: 1.0}\n",
    "\n",
    "#top k accuracy would be better i guess\n",
    "all_metrics = {\n",
    "    output_names[0]: siam_accuracy,\n",
    "    output_names[1]: \"accuracy\",\n",
    "    output_names[2]: \"accuracy\",\n",
    "}"
   ]
  },
  {
   "cell_type": "code",
   "execution_count": 9,
   "metadata": {},
   "outputs": [],
   "source": [
    "rms = RMSprop()\n",
    "s_model.compile(loss=losses, loss_weights=lossWeights, optimizer=rms, metrics=all_metrics)"
   ]
  },
  {
   "cell_type": "code",
   "execution_count": null,
   "metadata": {},
   "outputs": [],
   "source": []
  },
  {
   "cell_type": "code",
   "execution_count": null,
   "metadata": {},
   "outputs": [],
   "source": []
  },
  {
   "cell_type": "markdown",
   "metadata": {},
   "source": [
    "## Data Pipeline"
   ]
  },
  {
   "cell_type": "code",
   "execution_count": 10,
   "metadata": {},
   "outputs": [],
   "source": [
    "import pandas as pd\n",
    "import numpy as np"
   ]
  },
  {
   "cell_type": "code",
   "execution_count": 20,
   "metadata": {},
   "outputs": [],
   "source": [
    "# get_category_names\n",
    "with open('data/list_category_cloth.txt', 'r') as f:\n",
    "    categories = []\n",
    "    for i, line in enumerate(f.readlines()):\n",
    "        if i > 1:\n",
    "            categories.append(line.split(' ')[0])\n",
    "            \n",
    "# get image category map\n",
    "with open('data/list_category_img.txt', 'r') as f:\n",
    "    images = []\n",
    "    for i, line in enumerate(f.readlines()):\n",
    "        if i > 1:\n",
    "            images.append([word.strip() for word in line.split(' ') if len(word) > 0])\n",
    "            \n",
    "#get train, valid, test split\n",
    "with open('data/list_eval_partition.txt', 'r') as f:\n",
    "    images_partition = []\n",
    "    for i, line in enumerate(f.readlines()):\n",
    "        if i > 1:\n",
    "            images_partition.append([word.strip() for word in line.split(' ') if len(word) > 0])"
   ]
  },
  {
   "cell_type": "code",
   "execution_count": 21,
   "metadata": {},
   "outputs": [],
   "source": [
    "data_df = pd.DataFrame(images, columns=['images', 'category_label'])\n",
    "partition_df = pd.DataFrame(images_partition, columns=['images', 'dataset'])"
   ]
  },
  {
   "cell_type": "code",
   "execution_count": 22,
   "metadata": {},
   "outputs": [],
   "source": [
    "data_df['category_label'] = data_df['category_label'].astype(int)"
   ]
  },
  {
   "cell_type": "code",
   "execution_count": 23,
   "metadata": {},
   "outputs": [],
   "source": [
    "data_df = data_df.merge(partition_df, on='images')"
   ]
  },
  {
   "cell_type": "code",
   "execution_count": 24,
   "metadata": {},
   "outputs": [
    {
     "data": {
      "text/plain": [
       "train    209222\n",
       "val       40000\n",
       "test      40000\n",
       "Name: dataset, dtype: int64"
      ]
     },
     "execution_count": 24,
     "metadata": {},
     "output_type": "execute_result"
    }
   ],
   "source": [
    "data_df['dataset'].value_counts()"
   ]
  },
  {
   "cell_type": "code",
   "execution_count": 25,
   "metadata": {},
   "outputs": [],
   "source": [
    "data_df['category'] = data_df['category_label'].apply(lambda x: categories[int(x) - 1])"
   ]
  },
  {
   "cell_type": "code",
   "execution_count": 26,
   "metadata": {},
   "outputs": [
    {
     "data": {
      "text/plain": [
       "(46, 46)"
      ]
     },
     "execution_count": 26,
     "metadata": {},
     "output_type": "execute_result"
    }
   ],
   "source": [
    "data_df['category_label'].nunique(), data_df['category'].nunique()"
   ]
  },
  {
   "cell_type": "code",
   "execution_count": 27,
   "metadata": {},
   "outputs": [
    {
     "data": {
      "text/html": [
       "<div>\n",
       "<style scoped>\n",
       "    .dataframe tbody tr th:only-of-type {\n",
       "        vertical-align: middle;\n",
       "    }\n",
       "\n",
       "    .dataframe tbody tr th {\n",
       "        vertical-align: top;\n",
       "    }\n",
       "\n",
       "    .dataframe thead th {\n",
       "        text-align: right;\n",
       "    }\n",
       "</style>\n",
       "<table border=\"1\" class=\"dataframe\">\n",
       "  <thead>\n",
       "    <tr style=\"text-align: right;\">\n",
       "      <th></th>\n",
       "      <th>images</th>\n",
       "      <th>category_label</th>\n",
       "      <th>dataset</th>\n",
       "      <th>category</th>\n",
       "    </tr>\n",
       "  </thead>\n",
       "  <tbody>\n",
       "    <tr>\n",
       "      <th>0</th>\n",
       "      <td>img/Sheer_Pleated-Front_Blouse/img_00000001.jpg</td>\n",
       "      <td>3</td>\n",
       "      <td>train</td>\n",
       "      <td>Blouse</td>\n",
       "    </tr>\n",
       "    <tr>\n",
       "      <th>1</th>\n",
       "      <td>img/Sheer_Pleated-Front_Blouse/img_00000002.jpg</td>\n",
       "      <td>3</td>\n",
       "      <td>train</td>\n",
       "      <td>Blouse</td>\n",
       "    </tr>\n",
       "    <tr>\n",
       "      <th>2</th>\n",
       "      <td>img/Sheer_Pleated-Front_Blouse/img_00000003.jpg</td>\n",
       "      <td>3</td>\n",
       "      <td>val</td>\n",
       "      <td>Blouse</td>\n",
       "    </tr>\n",
       "    <tr>\n",
       "      <th>3</th>\n",
       "      <td>img/Sheer_Pleated-Front_Blouse/img_00000004.jpg</td>\n",
       "      <td>3</td>\n",
       "      <td>train</td>\n",
       "      <td>Blouse</td>\n",
       "    </tr>\n",
       "    <tr>\n",
       "      <th>4</th>\n",
       "      <td>img/Sheer_Pleated-Front_Blouse/img_00000005.jpg</td>\n",
       "      <td>3</td>\n",
       "      <td>test</td>\n",
       "      <td>Blouse</td>\n",
       "    </tr>\n",
       "  </tbody>\n",
       "</table>\n",
       "</div>"
      ],
      "text/plain": [
       "                                            images  category_label dataset  \\\n",
       "0  img/Sheer_Pleated-Front_Blouse/img_00000001.jpg               3   train   \n",
       "1  img/Sheer_Pleated-Front_Blouse/img_00000002.jpg               3   train   \n",
       "2  img/Sheer_Pleated-Front_Blouse/img_00000003.jpg               3     val   \n",
       "3  img/Sheer_Pleated-Front_Blouse/img_00000004.jpg               3   train   \n",
       "4  img/Sheer_Pleated-Front_Blouse/img_00000005.jpg               3    test   \n",
       "\n",
       "  category  \n",
       "0   Blouse  \n",
       "1   Blouse  \n",
       "2   Blouse  \n",
       "3   Blouse  \n",
       "4   Blouse  "
      ]
     },
     "execution_count": 27,
     "metadata": {},
     "output_type": "execute_result"
    }
   ],
   "source": [
    "data_df.head()"
   ]
  },
  {
   "cell_type": "code",
   "execution_count": null,
   "metadata": {},
   "outputs": [],
   "source": []
  }
 ],
 "metadata": {
  "kernelspec": {
   "display_name": "Python 3",
   "language": "python",
   "name": "python3"
  },
  "language_info": {
   "codemirror_mode": {
    "name": "ipython",
    "version": 3
   },
   "file_extension": ".py",
   "mimetype": "text/x-python",
   "name": "python",
   "nbconvert_exporter": "python",
   "pygments_lexer": "ipython3",
   "version": "3.6.9"
  }
 },
 "nbformat": 4,
 "nbformat_minor": 2
}
